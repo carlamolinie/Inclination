{
 "cells": [
  {
   "cell_type": "markdown",
   "id": "ab036254-4cf6-43e0-bf62-3210a2df9630",
   "metadata": {},
   "source": [
    "## Code_001"
   ]
  },
  {
   "cell_type": "markdown",
   "id": "1468625b-df98-40dd-8697-74dcc0f013d6",
   "metadata": {},
   "source": [
    "#### Gestion des imprécisions numériques : \n",
    "\n",
    "La valeur de cos_alpha peut parfois être très proche de 1 ou légèrement supérieure à 1 en raison des imprécisions numériques. Cela pourrait provoquer des erreurs avec la fonction math.acos, car l'intervalle d'entrée valide est [−1,1][−1,1]. Donc, on peut utilise min(1.0, max(-1.0, cos_alpha)) pour assurer la fiabilité de la valeur dans l'intervalle accepté.\r\n",
    "soins."
   ]
  },
  {
   "cell_type": "markdown",
   "id": "f027a8f6-c8dc-4217-9309-14257bd677c1",
   "metadata": {},
   "source": [
    "#### Tolérance pour les magnitudes très faibles :\n",
    "Une vérification est effectuée pour s'assurer que la norme de l'accélération est suffisamment grande pour permettre un calcul fiable. Si elle est trop faible (très proche de zéro), on aura une erreur.\n",
    "\n"
   ]
  },
  {
   "cell_type": "markdown",
   "id": "15a0ef87-2d95-4054-8dbb-ee0932da879c",
   "metadata": {},
   "source": [
    "#### Code plus compact : \n",
    "Cette version utilise moins de fonctions, mais est toujours avec une gestion correcte des erreurs numériques. Le code est plus court.\n"
   ]
  },
  {
   "cell_type": "markdown",
   "id": "f6d2920b-ad0c-4c86-9b98-2b4906cf930a",
   "metadata": {},
   "source": [
    "#### Paramètre de tolérance ajustable : \n",
    "Le paramètre tol permet d'ajuster la tolérance pour la gestion des très faibles accélération."
   ]
  },
  {
   "cell_type": "code",
   "execution_count": 8,
   "id": "52dc0ecc-887a-4109-9db9-b03dc88ad503",
   "metadata": {},
   "outputs": [
    {
     "name": "stdout",
     "output_type": "stream",
     "text": [
      "Inclinaison: 2.17 degrés\n"
     ]
    }
   ],
   "source": [
    "import math\n",
    "\n",
    "def calculate_inclination(ax, ay, az, tol=1e-6):\n",
    "    \"\"\"\n",
    "    Calcule l'inclinaison à partir des composantes d'accélération 3D.\n",
    "    Cette version inclut une tolérance pour les petites erreurs numériques.\n",
    "    \n",
    "    Parameters:\n",
    "    - ax: Accélération le long de l'axe x\n",
    "    - ay: Accélération le long de l'axe y\n",
    "    - az: Accélération le long de l'axe z\n",
    "    - tol: Tolérance pour éviter des erreurs de domaine avec la fonction acos\n",
    "    \n",
    "    Returns:\n",
    "    - L'angle d'inclinaison en degrés\n",
    "    \"\"\"\n",
    "    # Calculer la norme du vecteur d'accélération\n",
    "    magnitude = math.sqrt(ax**2 + ay**2 + az**2)\n",
    "    \n",
    "    if magnitude < tol:\n",
    "        raise ValueError(\"La magnitude du vecteur est trop petite pour un calcul fiable.\")\n",
    "    \n",
    "    # Calcul de cos(α), avec une gestion de la précision numérique pour éviter les erreurs\n",
    "    cos_alpha = az / magnitude\n",
    "    \n",
    "    # Limiter les valeurs de cos_alpha dans l'intervalle [-1, 1] pour éviter des erreurs avec acos\n",
    "    cos_alpha = min(1.0, max(-1.0, cos_alpha))\n",
    "    \n",
    "    # Calculer l'angle d'inclinaison en radians\n",
    "    alpha_rad = math.acos(cos_alpha)\n",
    "    \n",
    "    # Convertir en degrés\n",
    "    alpha_deg = math.degrees(alpha_rad)\n",
    "    \n",
    "    return alpha_deg\n",
    "\n",
    "def main():\n",
    "    \"\"\"\n",
    "    Exemple de fonction principale pour tester le calcul d'inclinaison avec des valeurs d'accélération.\n",
    "    \"\"\"\n",
    "    # Exemple de données d'accélération\n",
    "    ax = 0.2\n",
    "    ay = 0.3\n",
    "    az = 9.5  # Valeur proche de l'accélération gravitationnelle\n",
    "    \n",
    "    try:\n",
    "        # Calcul et affichage de l'inclinaison\n",
    "        inclination = calculate_inclination(ax, ay, az)\n",
    "        print(f\"Inclinaison: {inclination:.2f} degrés\")\n",
    "    \n",
    "    except ValueError as e:\n",
    "        print(f\"Erreur : {e}\")\n",
    "\n",
    "# Exécuter la fonction principale\n",
    "if __name__ == \"__main__\":\n",
    "    main()\n"
   ]
  }
 ],
 "metadata": {
  "kernelspec": {
   "display_name": "Python 3 (ipykernel)",
   "language": "python",
   "name": "python3"
  },
  "language_info": {
   "codemirror_mode": {
    "name": "ipython",
    "version": 3
   },
   "file_extension": ".py",
   "mimetype": "text/x-python",
   "name": "python",
   "nbconvert_exporter": "python",
   "pygments_lexer": "ipython3",
   "version": "3.12.4"
  }
 },
 "nbformat": 4,
 "nbformat_minor": 5
}
