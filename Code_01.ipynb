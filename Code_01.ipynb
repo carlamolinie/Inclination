{
 "cells": [
  {
   "cell_type": "markdown",
   "id": "6c48084b-59be-40d3-b1d1-37ceac2506b8",
   "metadata": {},
   "source": [
    "## Code_01"
   ]
  },
  {
   "cell_type": "code",
   "execution_count": 3,
   "id": "4403fa92-fba8-4a4b-9c0d-a996a2b6f74a",
   "metadata": {},
   "outputs": [
    {
     "name": "stdout",
     "output_type": "stream",
     "text": [
      "Inclinaison: 2.98 degrés\n"
     ]
    }
   ],
   "source": [
    "import math\n",
    "\n",
    "def validate_acceleration(ax, ay, az): #Valide les valeurs d'accélération pour s'assurer qu'elles sont des nombres valides (non nuls).\n",
    "    \n",
    "    if not all(isinstance(val, (int, float)) for val in [ax, ay, az]):\n",
    "        raise ValueError(\"Les valeurs d'accélération doivent être des nombres réels.\")\n",
    "    if ax == 0 and ay == 0 and az == 0:\n",
    "        raise ValueError(\"Les composantes de l'accélération ne peuvent pas être toutes nulles.\")\n",
    "\n",
    "def calculate_magnitude(ax, ay, az): #La fonction de calcul de la norme du vecteur est isolée pour être réutilisée ou modifiée facilement dans d'autres parties du code ou pour d'autres types de calculs\n",
    "    \n",
    "    return math.sqrt(ax**2 + ay**2 + az**2)\n",
    "\n",
    "def calculate_inclination(ax, ay, az): #Cette fonction est désormais modulaire avec des sous-fonctions pour la validation et la norme, ce qui la rend plus claire et extensible.\n",
    "    \n",
    "    #Calcule l'angle d'inclinaison par rapport à la direction de la gravité à partir des composantes d'accélération 3D.\n",
    "    \n",
    "    #L'angle est retourné en degrés.\n",
    "    \n",
    "    # Valider les entrées\n",
    "    validate_acceleration(ax, ay, az)\n",
    "    \n",
    "    # Calcul de la magnitude du vecteur d'accélération\n",
    "    magnitude = calculate_magnitude(ax, ay, az)\n",
    "    \n",
    "    # Calcul de l'inclinaison en radians\n",
    "    alpha_rad = math.acos(az / magnitude)\n",
    "    \n",
    "    # Conversion en degrés\n",
    "    alpha_deg = math.degrees(alpha_rad)\n",
    "    \n",
    "    return alpha_deg\n",
    "\n",
    "def main():\n",
    "    \n",
    "    #Fonction principale pour tester le calcul de l'inclinaison avec un exemple.\n",
    "    #Le bloc try-except dans la fonction main() permet de gérer les erreurs potentielles (comme les valeurs d'accélération non valides) et affiche un message d'erreur\n",
    "    \n",
    "    try:\n",
    "        # Exemple de valeurs d'accélération\n",
    "        ax = 0.4\n",
    "        ay = 0.3\n",
    "        az = 9.6  # Environ l'accélération gravitationnelle\n",
    "        \n",
    "        # Calculer et afficher l'inclinaison\n",
    "        inclination = calculate_inclination(ax, ay, az)\n",
    "        print(f\"Inclinaison: {inclination:.2f} degrés\")\n",
    "    \n",
    "    except ValueError as e:\n",
    "        print(f\"Erreur : {e}\")\n",
    "\n",
    "# Appeler la fonction principale\n",
    "if __name__ == \"__main__\":\n",
    "    main()\n"
   ]
  },
  {
   "cell_type": "code",
   "execution_count": null,
   "id": "7c7bbe88-41fb-4e3a-9be2-dc981ff3bd5c",
   "metadata": {},
   "outputs": [],
   "source": []
  }
 ],
 "metadata": {
  "kernelspec": {
   "display_name": "Python 3 (ipykernel)",
   "language": "python",
   "name": "python3"
  },
  "language_info": {
   "codemirror_mode": {
    "name": "ipython",
    "version": 3
   },
   "file_extension": ".py",
   "mimetype": "text/x-python",
   "name": "python",
   "nbconvert_exporter": "python",
   "pygments_lexer": "ipython3",
   "version": "3.12.4"
  }
 },
 "nbformat": 4,
 "nbformat_minor": 5
}
