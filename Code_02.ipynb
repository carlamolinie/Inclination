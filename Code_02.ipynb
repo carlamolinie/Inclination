{
 "cells": [
  {
   "cell_type": "markdown",
   "id": "6b441039-ae94-46cf-8f50-601cca68ac63",
   "metadata": {},
   "source": [
    "### Code du calcul de l'angle d'inclinaison"
   ]
  },
  {
   "cell_type": "markdown",
   "id": "f94c1a4e-bab3-4ab0-b405-a9d0cb5beb6b",
   "metadata": {},
   "source": [
    "Nous avons ecrit un code Python qui calcule l'angle d'inclinaison à partir des données d'un accéléromètre 3D, en tenant compte des projections de la gravité sur les trois axes 𝑥, 𝑦, et 𝑧, lorsque le capteur est tourné dans n'importe quelle direction. \n",
    "\n",
    "Ce code pourrait être utilisé pour suivre la position du poignet d'une personne post-AVC, en calculant l'angle d'inclinaison du capteur fixé sur l'avant bras.\n",
    "\n",
    "Dans un premier temps on définit le calcul, pour ensuite injecter les données à l'intérieur."
   ]
  },
  {
   "cell_type": "code",
   "execution_count": 3,
   "id": "194443a9-e25b-495d-8aba-50b3113a8636",
   "metadata": {},
   "outputs": [],
   "source": [
    "import numpy as np\n",
    "\n",
    "# Fonction pour calculer l'angle d'inclinaison\n",
    "def calcul_inclinaison(ax, ay, az): \n",
    "    # Norme du vecteur d'accélération\n",
    "    norme_acceleration = np.sqrt(ax**2 + ay**2 + az**2)\n",
    "    \n",
    "    # Éviter la division par zéro\n",
    "    if norme_acceleration == 0:\n",
    "        return None\n",
    "    \n",
    "    # On calcule l'angle d'inclinaison (en radians)\n",
    "    alpha_radians = np.arccos(az / norme_acceleration)\n",
    "    \n",
    "    # On convertit en degrés\n",
    "    alpha_degres = np.degrees(alpha_radians)\n",
    "    \n",
    "    return alpha_degres #permet d'afficher le résultat"
   ]
  },
  {
   "cell_type": "markdown",
   "id": "0cc84b6d-749b-4bbe-9892-b977431e4f4c",
   "metadata": {},
   "source": [
    "Nous testons avec 3 exemples notre code, pour cela nous avons pris des données de ax, ay et az aléatoires."
   ]
  },
  {
   "cell_type": "code",
   "execution_count": 6,
   "id": "45a05d5f-396e-4976-a281-862ac84af00c",
   "metadata": {},
   "outputs": [
    {
     "name": "stdout",
     "output_type": "stream",
     "text": [
      "Inclinaison du capteur: 35.54°\n"
     ]
    }
   ],
   "source": [
    "# Exemple 1 de données d'accélération mesurées par l'accéléromètre (avec g = 9.81 m/s^2) \n",
    "\n",
    "# ax, ay, az sont les composantes de l'accélération mesurée (en m/s^2)\n",
    "ax = 3.0   # Accélération selon l'axe x\n",
    "ay = 4.0   # Accélération selon l'axe y\n",
    "az = 7.0   # Accélération selon l'axe z\n",
    "\n",
    "# Calcul de l'inclinaison\n",
    "inclinaison = calcul_inclinaison(ax, ay, az)\n",
    "\n",
    "if inclinaison is not None:\n",
    "    print(f\"Inclinaison du capteur: {inclinaison:.2f}°\")\n",
    "else:\n",
    "    print(\"Impossible de calculer l'inclinaison (norme d'accélération nulle).\")"
   ]
  },
  {
   "cell_type": "code",
   "execution_count": 8,
   "id": "f7f08f55-61f6-4796-b547-facfedd6ca28",
   "metadata": {},
   "outputs": [
    {
     "name": "stdout",
     "output_type": "stream",
     "text": [
      "Inclinaison du capteur: 79.34°\n"
     ]
    }
   ],
   "source": [
    "# Exemple 2 de données d'accélération mesurées par l'accéléromètre (avec g = 9.81 m/s^2)\n",
    "\n",
    "# ax, ay, az sont les composantes de l'accélération mesurée (en m/s^2)\n",
    "ax = 8.0   # Accélération selon l'axe x\n",
    "ay = 7.0   # Accélération selon l'axe y\n",
    "az = 2.0   # Accélération selon l'axe z\n",
    "\n",
    "# Calcul de l'inclinaison\n",
    "inclinaison = calcul_inclinaison(ax, ay, az)\n",
    "\n",
    "if inclinaison is not None:\n",
    "    print(f\"Inclinaison du capteur: {inclinaison:.2f}°\")\n",
    "else:\n",
    "    print(\"Impossible de calculer l'inclinaison (norme d'accélération nulle).\")"
   ]
  },
  {
   "cell_type": "markdown",
   "id": "76cf441a-393e-4542-be2d-fff7907c2b4a",
   "metadata": {},
   "source": [
    "On teste avec les valeurs 0 pour vérifier que le message d'erreur fonctionne."
   ]
  },
  {
   "cell_type": "code",
   "execution_count": 10,
   "id": "0cfddd28-6f7d-4f0d-9a15-a972826df053",
   "metadata": {},
   "outputs": [
    {
     "name": "stdout",
     "output_type": "stream",
     "text": [
      "Impossible de calculer l'inclinaison (norme d'accélération nulle).\n"
     ]
    }
   ],
   "source": [
    "# Exemple 3 lorsque les composantes mesurées = 0 (en g = 9.81 m/s^2)\n",
    "\n",
    "# ax, ay, az sont les composantes de l'accélération mesurée (en m/s^2)\n",
    "ax = 0   # Accélération selon l'axe x\n",
    "ay = 0   # Accélération selon l'axe y\n",
    "az = 0   # Accélération selon l'axe z\n",
    "\n",
    "# Calcul de l'inclinaison\n",
    "inclinaison = calcul_inclinaison(ax, ay, az)\n",
    "\n",
    "if inclinaison is not None:\n",
    "    print(f\"Inclinaison du capteur: {inclinaison:.2f}°\")\n",
    "else:\n",
    "    print(\"Impossible de calculer l'inclinaison (norme d'accélération nulle).\")"
   ]
  },
  {
   "cell_type": "code",
   "execution_count": null,
   "id": "26052116-0f80-49ec-9074-4cd740780218",
   "metadata": {},
   "outputs": [],
   "source": []
  }
 ],
 "metadata": {
  "kernelspec": {
   "display_name": "Python 3 (ipykernel)",
   "language": "python",
   "name": "python3"
  },
  "language_info": {
   "codemirror_mode": {
    "name": "ipython",
    "version": 3
   },
   "file_extension": ".py",
   "mimetype": "text/x-python",
   "name": "python",
   "nbconvert_exporter": "python",
   "pygments_lexer": "ipython3",
   "version": "3.12.4"
  }
 },
 "nbformat": 4,
 "nbformat_minor": 5
}
