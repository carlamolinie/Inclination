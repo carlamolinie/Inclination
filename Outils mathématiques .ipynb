{
 "cells": [
  {
   "cell_type": "markdown",
   "id": "97b46246-c938-43cc-8cd6-1506378691f4",
   "metadata": {},
   "source": [
    "### I. Définition des outils physiques et mathématiques utilisés dans l'explication du calcul de l'inclinaison"
   ]
  },
  {
   "cell_type": "markdown",
   "id": "ce6d49e2-b5d1-41b7-8b63-c2c4e74895be",
   "metadata": {},
   "source": [
    "Dans l'objectif de comprendre le calcul de l'inclinaison il nous a était nécessaire de prendre chaque outils mathématiques utilisé, un par un, afin de définir son objectif et son utilisation. "
   ]
  },
  {
   "cell_type": "markdown",
   "id": "079622b0-ad3f-4c67-a923-a3f767c0eb3b",
   "metadata": {},
   "source": [
    "### 1. **Vecteur**\n",
    "Un vecteur est un objet mathématique qui a une direction et une grandeur. Dans notre cas, les vecteurs $\\vec{a} = (a_x, a_y, a_z)$ et $\\vec{g} = (0, 0, g)$ représentent l'accélération dans l'espace 3D, avec $(a_x)$, $(a_y)$, et $(a_z)$ les composantes selon les trois directions orthogonales \\(x\\), \\(y\\), et \\(z\\)."
   ]
  },
  {
   "cell_type": "markdown",
   "id": "2f5e4e76-4f2f-4b7b-bd09-4eda5872a090",
   "metadata": {},
   "source": [
    "### 2. **Produit scalaire**\n",
    "Le produit scalaire entre deux vecteurs est une opération qui donne un nombre et nous renseigne sur l'angle entre les deux vecteurs. Il se calcule en multipliant les composantes correspondantes des deux vecteurs puis en les additionnant. C'est utilisé ici pour déterminer l'angle d'inclinaison.\n",
    "\n",
    "$$\n",
    "\\vec{a} \\cdot \\vec{b} = a_x b_x + a_y b_y + a_z b_z\n",
    "$$"
   ]
  },
  {
   "cell_type": "markdown",
   "id": "ef84e3e2-ba30-4663-a334-94a394d315f5",
   "metadata": {},
   "source": [
    "### 3. **Norme d’un vecteur**\n",
    "La norme d’un vecteur (ou longueur) représente sa magnitude, c'est-à-dire sa taille. Pour un vecteur $\\vec{a} = (a_x, a_y, a_z)$, sa norme est calculée par :\n",
    "\n",
    "$$\n",
    "|\\vec{a}| = \\sqrt{a_x^2 + a_y^2 + a_z^2}\n",
    "$$\n",
    "\n",
    "C'est la somme des carrés des composantes, suivie d'une racine carrée. Cela donne une idée de la \"force\" totale de l'accélération."
   ]
  },
  {
   "cell_type": "markdown",
   "id": "fe562a24-0b67-47e2-b113-ace41e5bca5d",
   "metadata": {},
   "source": [
    "### 4. **Arccos (cosinus inverse)**\n",
    "La fonction arccos est l'inverse de la fonction cosinus. Si $\\cos(\\alpha)$ nous donne un rapport, $\\arccos$nous permet de retrouver l'angle $\\alpha$ à partir de ce rapport. Elle est utilisée pour calculer l'angle d'inclinaison à partir du rapport entre $\\a_z$ et la norme de $\\vec{a}$.\n",
    "\n",
    "$$\n",
    "\\alpha = \\arccos \\left( \\frac{a_z}{|\\vec{a}|} \\right)\n",
    "$$"
   ]
  },
  {
   "cell_type": "markdown",
   "id": "c65525b0-31db-4c66-9822-332c93a48dcb",
   "metadata": {},
   "source": [
    "### 5. **Matrice de rotation**\n",
    "Une matrice de rotation est un outil qui permet de tourner un vecteur dans l'espace selon un angle donné. Elle modifie l'orientation du capteur sans changer la taille du vecteur. Si le capteur tourne dans l'espace, cette matrice permet de calculer comment les composantes de la gravité se projettent sur les nouveaux axes du capteur."
   ]
  },
  {
   "cell_type": "markdown",
   "id": "032abf18-f82d-4ac9-9521-f13b623e8791",
   "metadata": {},
   "source": [
    "### 6. **Angles d’Euler**\n",
    "Les angles d'Euler $\\phi$, $\\theta$, $\\psi$ sont trois angles utilisés pour décrire l'orientation d'un objet dans l'espace 3D. Ils permettent de définir comment le capteur est tourné par rapport à un repère de référence. Chaque angle correspond à une rotation autour d'un axe spécifique (généralement \\(x\\), \\(y\\), ou \\(z\\))."
   ]
  },
  {
   "cell_type": "markdown",
   "id": "02407a58-b37f-4766-b590-24e59db31302",
   "metadata": {},
   "source": [
    "### 7. **Accélération gravitationnelle (g)**\n",
    "La gravité terrestre est une force constante qui attire les objets vers le sol. L'accélération due à la gravité, notée \\(g\\), a une valeur approximative de $(9.81 \\, \\text{m/s}^2)$. Dans nos calculs, c’est ce vecteur qui est projeté sur les axes du capteur pour déterminer son inclinaison."
   ]
  },
  {
   "cell_type": "markdown",
   "id": "8c9d5e9f-75cc-4549-8489-a84d66dd1a28",
   "metadata": {},
   "source": [
    "### 8. **Inclinaison (\\(\\alpha\\))**\n",
    "L'inclinaison est l'angle que forme l'axe \\(z\\) du capteur avec le vecteur gravité. C’est l’information principale que nous cherchons à calculer. Plus l'inclinaison est grande, plus le capteuéloigné de la position verticale.\n"
   ]
  },
  {
   "cell_type": "markdown",
   "id": "7bfcd2f5-0110-4baf-bf7b-44313cf116bd",
   "metadata": {},
   "source": [
    "Ces outils sont utilisés ensemble pour déterminer comment un accéléromètre placé sur un poignet ou dans une autre orientation mesure la gravité terrestre, et comment cette information est utilisée pour calculer l'inclinaison du capteur."
   ]
  },
  {
   "cell_type": "markdown",
   "id": "a9f7a9be-486d-41cd-8709-dd639523a117",
   "metadata": {},
   "source": [
    "### II. Calcul de l'inclinaison à partir des composantes d'accélération 3D lorsque le capteur est aligné avec les axes et immobile"
   ]
  },
  {
   "cell_type": "markdown",
   "id": "ea59a076-ddcd-42e3-85d2-376052c92677",
   "metadata": {},
   "source": [
    "#### Contexte\n",
    "Un accéléromètre mesure l'accélération dans trois directions orthogonales : $ (a_x), (a_y), et (a_z)$. Dans des conditions statiques ou quasi-statiques, le capteur d'accélération est influencé principalement par l'accélération due à la gravité terrestre, qui vaut : $$( g \\approx 9.81 \\, \\text{m/s}^2 )$$\n",
    "Cependant, comme le capteur peut être orienté dans n'importe quelle direction, la projection du vecteur gravité se répartit sur les trois axes $ (x), (y), et (z)$. **L'objectif est de calculer l'inclinaison du capteur par rapport à la verticale (généralement associée à l'axe $(z)$)**.\n",
    "\n",
    "#### Hypothèses\n",
    "- **Conditions quasi-statiques** : Cela signifie que le capteur est soit immobile, soit soumis à de très faibles accélérations dues au mouvement. Dans ce cas, l'accélération mesurée par le capteur est presque exclusivement due à la gravité.\n",
    "- **Gravité uniforme** : Le vecteur de gravité est constant en magnitude et pointe toujours vers le bas (vers le centre de la Terre), soit en direction de $(z\\)$ dans un référentiel fixe.\n",
    "\n",
    "#### Concept de base\n",
    "L'inclinaison $(\\alpha)$ est définie comme l'angle entre l'axe $(z)$ du capteur et le vecteur de gravité $(\\vec{g})$. Lorsque le capteur est dans une position quelconque, la composante de l'accélération dans chaque direction correspond à une projection du vecteur de gravité sur cet axe.\n",
    "\n",
    "Si le capteur n’est pas en mouvement (ou sous une accélération négligeable autre que la gravité), la somme des carrés des accélérations sur les trois axes devrait donner :\n",
    "\n",
    "$$[\n",
    "a_x^2 + a_y^2 + a_z^2 = g^2\n",
    "]$$\n",
    "\n",
    "où $(g)$ est l'accélération due à la gravité.\n",
    "\n",
    "#### Calcul de l'inclinaison\n",
    "\n",
    "L'inclinaison $(\\alpha)$ est l'angle entre l'axe $(z)$ et le vecteur gravité $(\\vec{g})$, soit l'angle entre le vecteur d'accélération mesuré $(\\vec{a} = (a_x, a_y, a_z))$ et l'axe $(z)$. Cet angle peut être calculé en utilisant la relation entre le produit scalaire de deux vecteurs et leur norme.\n",
    "\n",
    "La formule générale de l'angle entre deux vecteurs $( \\vec{a} )$ et $( \\vec{b} )$ est donnée par :\n",
    "\n",
    "$$[\n",
    "\\cos \\theta = \\frac{\\vec{a} \\cdot \\vec{b}}{|\\vec{a}| |\\vec{b}|}\n",
    "]$$\n",
    "\n",
    "Dans ce cas, $( \\vec{b} )$ est l'axe $(z)$, donc $( \\vec{b} = (0, 0, 1) )$, et l'accélération totale est le vecteur $( \\vec{a} = (a_x, a_y, a_z) )$. L'inclinaison $(\\alpha)$ par rapport à l'axe $(z)$ est donnée par :\n",
    "\n",
    "$$[\n",
    "\\cos \\alpha = \\frac{a_z}{\\sqrt{a_x^2 + a_y^2 + a_z^2}}\n",
    "]$$\n",
    "\n",
    "Ce qui donne :\n",
    "\n",
    "$$[\n",
    "\\alpha = \\arccos \\left( \\frac{a_z}{\\sqrt{a_x^2 + a_y^2 + a_z^2}}\\right)\n",
    "]$$\n",
    "\n",
    "#### Explication physique\n",
    "\n",
    "L'accéléromètre mesure l'accélération totale subie par le capteur, y compris la composante due à la gravité. Sous des conditions statiques (pas de mouvement), la seule accélération présente est celle due à la gravité, ce qui permet d'utiliser les projections des mesures sur les axes pour déterminer l'orientation du capteur par rapport au champ gravitationnel.\n",
    "\n",
    "- Lorsque le capteur est parfaitement aligné avec l'axe $(z)$, la composante $(a_z = g)$ et $(a_x = a_y = 0)$, ce qui donne une inclinaison $(\\alpha = 0^\\circ)$.\n",
    "- Si le capteur est incliné par rapport à $(z)$, la composante $(a_z)$ diminue et les composantes $(a_x)$ et $(a_y)$ augmentent. Plus l'inclinaison est grande, plus l'angle $(\\alpha)$ augmente.\n",
    "\n",
    "\n",
    "#### Conclusion\n",
    "\n",
    "La formule $$(\\alpha = \\arccos \\left( \\frac{a_z}{\\sqrt{a_x^2 + a_y^2 + a_z^2}} \\right))$$ permet de calculer l'angle d'inclinaison en utilisant les composantes d'accélération mesurées par un accéléromètre 3D dans des conditions statiques ou quasi-statiques. Elle repose sur la projection de la gravité sur les axes du capteur et peut être utilisée pour déterminer l'orientation du capteur par rapport à la verticale."
   ]
  },
  {
   "cell_type": "markdown",
   "id": "21769755-cb75-4a54-850f-e3144985ef0d",
   "metadata": {},
   "source": [
    "### III. Calcul de l'inclinaison à partir des composantes d'accélération 3D lorsque le capteur est dans n'importe quel sens et immobile"
   ]
  },
  {
   "cell_type": "markdown",
   "id": "8071be15-3a4b-4b05-8260-f9137be92353",
   "metadata": {},
   "source": [
    " #### Contexte\n",
    "\n",
    "Lorsqu'un capteur accéléromètre est tourné dans n'importe quelle direction, sa relation avec le champ de gravité terrestre change. Cela signifie que le vecteur de gravité, qui est fixe dans l'espace, ne pointe plus directement le long de l'axe \\(z\\) du capteur. Pour calculer l'inclinaison dans ce cas, il est nécessaire de déterminer l'orientation du capteur par rapport à un référentiel global fixe. \n",
    "\n",
    "#### Hypothèses\n",
    "\n",
    "- **Gravité constante** : Le vecteur gravité $\\vec{g}$ a une norme constante égale à $g \\approx 9.81 \\, \\text{m/s}^2$, mais sa direction peut changer en fonction de l'orientation du capteur.\n",
    "- **Capteur tourné** : Le capteur peut être orienté dans n'importe quelle direction, et donc les axes $x, y, et z$ ne sont pas alignés avec la direction de la gravité.\n",
    "- **Conditions quasi-statiques** : L'accélération mesurée est dominée par la gravité (pas de mouvement significatif).\n",
    "\n",
    "#### Représentation des rotations\n",
    "\n",
    "Pour représenter les rotations du capteur dans l'espace, nous utilisons des **angles d'Euler** ou une **matrice de rotation** qui décrit comment le repère du capteur $(x, y, z)$ est orienté par rapport à un repère fixe $(X, Y, Z)$ aligné avec la gravité.\n",
    "\n",
    "#### Concept de l'angle d'inclinaison dans une orientation arbitraire\n",
    "\n",
    "Même lorsque le capteur est tourné, l'inclinaison $\\alpha$ est toujours l'angle entre l'axe $z$ du capteur et le vecteur de gravité $\\vec{g}. Le problème consiste donc à trouver la composante de la gravité dans le repère local du capteur.\n",
    "\n",
    "1. **Vecteur d'accélération mesuré** : Les composantes mesurées par le capteur sont $a_x$, $a_y$, et $a_z$, qui sont la somme de l'accélération gravitationnelle et de l'accélération due au mouvement. Mais en condition quasi-statique, nous supposons que ces composantes représentent principalement la gravité projetée sur les axes \\(x\\), \\(y\\), et \\(z\\) du capteur.\n",
    "\n",
    "2. **Norme du vecteur gravité** : Comme la gravité est le seul contributeur principal, la norme de l'accélération totale est approximativement égale à la gravité, soit $g = \\sqrt{a_x^2 + a_y^2 + a_z^2}$.\n",
    "\n",
    "#### Inclinaison dans un repère tourné\n",
    "\n",
    "Lorsque le capteur est tourné dans une orientation quelconque, le vecteur gravité n'est plus uniquement aligné avec l'axe $z$. L'inclinaison $\\alpha$ reste définie comme l'angle entre le vecteur gravité $\\vec{g}$ et l'axe $z$ du capteur. Ce qui change est que le vecteur gravité a désormais des composantes non nulles sur les axes $x$ et $y$.\n",
    "\n",
    "Pour déterminer cet angle, on utilise la même méthode basée sur le produit scalaire, mais appliquée à une orientation quelconque :\n",
    "\n",
    "$$\n",
    "\\cos \\alpha = \\frac{\\vec{a} \\cdot \\vec{z}}{|\\vec{a}| |\\vec{z}|}\n",
    "$$\n",
    "\n",
    "où :\n",
    "- $\\vec{a} = (a_x, a_y, a_z)$ est le vecteur d'accélération mesuré par le capteur (avec les projections de la gravité sur les axes du capteur),\n",
    "- $\\vec{z} = (0, 0, 1)$ est le vecteur unitaire dans la direction de l'axe \\(z\\) du capteur.\n",
    "\n",
    "Cela revient à la formule précédente :\n",
    "\n",
    "$$\n",
    "\\cos \\alpha = \\frac{a_z}{\\sqrt{a_x^2 + a_y^2 + a_z^2}}\n",
    "$$\n",
    "\n",
    "$$\n",
    "\\alpha = \\arccos \\left( \\frac{a_z}{\\sqrt{a_x^2 + a_y^2 + a_z^2}} \\right)\n",
    "$$\n",
    "\n",
    "### Explication physique\n",
    "\n",
    "Même lorsque le capteur est tourné dans n'importe quelle direction, cette formule fonctionne parce que les composantes $a_x$, $a_y$, et $a_z$ correspondent toujours aux projections du vecteur gravité sur les axes du capteur. Le vecteur gravité $\\vec{g}$ reste constant dans le référentiel global, mais est projeté différemment en fonction de l'orientation du capteur.\n",
    "\n",
    "\n",
    "#### Conclusion\n",
    "\n",
    "Même lorsque le capteur est tourné dans n'importe quelle direction, l'inclinaison $\\alpha$ peut être calculée à l'aide de la même formule :\n",
    "\n",
    "$$\n",
    "\\alpha = \\arccos \\left( \\frac{a_z}{\\sqrt{a_x^2 + a_y^2 + a_z^2}} \\right)\n",
    "$$\n",
    "\n",
    "Cette formule repose sur la projection du vecteur gravité sur les axes du capteur et fonctionne en conditions quasi-statiques où l'accélération mesurée est principalement due à la gravité."
   ]
  },
  {
   "cell_type": "code",
   "execution_count": null,
   "id": "c72a4107-ae67-42dc-b06c-cae8349f4a4b",
   "metadata": {},
   "outputs": [],
   "source": []
  }
 ],
 "metadata": {
  "kernelspec": {
   "display_name": "Python 3 (ipykernel)",
   "language": "python",
   "name": "python3"
  },
  "language_info": {
   "codemirror_mode": {
    "name": "ipython",
    "version": 3
   },
   "file_extension": ".py",
   "mimetype": "text/x-python",
   "name": "python",
   "nbconvert_exporter": "python",
   "pygments_lexer": "ipython3",
   "version": "3.12.4"
  }
 },
 "nbformat": 4,
 "nbformat_minor": 5
}
